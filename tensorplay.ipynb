{
  "nbformat": 4,
  "nbformat_minor": 0,
  "metadata": {
    "colab": {
      "provenance": [],
      "authorship_tag": "ABX9TyNeynJB8JqxdMW8VkPSS9Z0",
      "include_colab_link": true
    },
    "kernelspec": {
      "name": "python3",
      "display_name": "Python 3"
    },
    "language_info": {
      "name": "python"
    }
  },
  "cells": [
    {
      "cell_type": "markdown",
      "metadata": {
        "id": "view-in-github",
        "colab_type": "text"
      },
      "source": [
        "<a href=\"https://colab.research.google.com/github/newyearsnight/janedata/blob/main/tensorplay.ipynb\" target=\"_parent\"><img src=\"https://colab.research.google.com/assets/colab-badge.svg\" alt=\"Open In Colab\"/></a>"
      ]
    },
    {
      "cell_type": "code",
      "execution_count": null,
      "metadata": {
        "colab": {
          "base_uri": "https://localhost:8080/"
        },
        "id": "qXLdS9YV1O87",
        "outputId": "d9f83378-7150-4025-efb0-872cc91c6577"
      },
      "outputs": [
        {
          "output_type": "stream",
          "name": "stdout",
          "text": [
            "Epoch:0 loss is 0.00795606430619955\n",
            "Epoch:1 loss is 0.0035548703745007515\n",
            "Epoch:2 loss is 0.0012683450477197766\n",
            "Epoch:3 loss is 0.00012924634211231023\n",
            "Epoch:4 loss is 0.0005917297676205635\n",
            "Epoch:5 loss is 1.1092489330621902e-05\n"
          ]
        }
      ],
      "source": [
        "# Import dependencies\n",
        "import torch \n",
        "from PIL import Image\n",
        "from torch import nn, save, load\n",
        "from torch.optim import Adam\n",
        "from torch.utils.data import DataLoader\n",
        "from torchvision import datasets\n",
        "from torchvision.transforms import ToTensor\n",
        "\n",
        "# Get data \n",
        "train = datasets.MNIST(root=\"data\", download=True, train=True, transform=ToTensor())\n",
        "dataset = DataLoader(train, 32)\n",
        "#1,28,28 - classes 0-9\n",
        "\n",
        "# Image Classifier Neural Network\n",
        "class ImageClassifier(nn.Module): \n",
        "    def __init__(self):\n",
        "        super().__init__()\n",
        "        self.model = nn.Sequential(\n",
        "            nn.Conv2d(1, 32, (3,3)), \n",
        "            nn.ReLU(),\n",
        "            nn.Conv2d(32, 64, (3,3)), \n",
        "            nn.ReLU(),\n",
        "            nn.Conv2d(64, 64, (3,3)), \n",
        "            nn.ReLU(),\n",
        "            nn.Flatten(), \n",
        "            nn.Linear(64*(28-6)*(28-6), 10)  \n",
        "        )\n",
        "\n",
        "    def forward(self, x): \n",
        "        return self.model(x)\n",
        "\n",
        "# Instance of the neural network, loss, optimizer \n",
        "clf = ImageClassifier().to('cpu')\n",
        "opt = Adam(clf.parameters(), lr=1e-3)\n",
        "loss_fn = nn.CrossEntropyLoss() \n",
        "\n",
        "# Training flow \n",
        "if __name__ == \"__main__\": \n",
        "    for epoch in range(10): # train for 10 epochs\n",
        "        for batch in dataset: \n",
        "            X,y = batch \n",
        "            X, y = X.to('cpu'), y.to('cpu') \n",
        "            yhat = clf(X) \n",
        "            loss = loss_fn(yhat, y) \n",
        "\n",
        "            # Apply backprop \n",
        "            opt.zero_grad()\n",
        "            loss.backward() \n",
        "            opt.step() \n",
        "\n",
        "        print(f\"Epoch:{epoch} loss is {loss.item()}\")\n",
        "    \n",
        "    with open('model_state.pt', 'wb') as f: \n",
        "        save(clf.state_dict(), f) \n"
      ]
    }
  ]
}